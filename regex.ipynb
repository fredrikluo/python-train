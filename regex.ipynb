{
 "cells": [
  {
   "cell_type": "code",
   "execution_count": 1,
   "metadata": {},
   "outputs": [],
   "source": [
    "import re"
   ]
  },
  {
   "cell_type": "markdown",
   "metadata": {},
   "source": [
    "Characters\n",
    "<br>\n",
    "\\d         matches a single character that is a digit\n",
    "<br>\n",
    "\\w         matches a word character (alphanumeric character plus underscore) \n",
    "<br>\n",
    "\\s         matches a whitespace character (includes tabs and line breaks)\n",
    "<br>\n",
    ".          matches any character "
   ]
  },
  {
   "cell_type": "markdown",
   "metadata": {},
   "source": [
    "Quantifiers: * + ? {}\n",
    "\n",
    "<br>\n",
    "abc*        matches a string that has ab followed by zero or more c \n",
    "<br>\n",
    "abc+        matches a string that has ab followed by one or more c\n",
    "<br>\n",
    "abc?        matches a string that has ab followed by zero or one c\n",
    "<br>\n",
    "abc{2}      matches a string that has ab followed by 2 c"
   ]
  },
  {
   "cell_type": "code",
   "execution_count": 2,
   "metadata": {},
   "outputs": [],
   "source": [
    "text = \"En DNB-kunde trodde hun hadde vunnet 15.000 kroner i en konkurranse på Facebook.\""
   ]
  },
  {
   "cell_type": "code",
   "execution_count": 3,
   "metadata": {},
   "outputs": [
    {
     "name": "stdout",
     "output_type": "stream",
     "text": [
      "vunnet 15.000 kroner\n"
     ]
    }
   ],
   "source": [
    "x = re.search('vunnet .* kroner', text)\n",
    "print(x.group(0))"
   ]
  },
  {
   "cell_type": "code",
   "execution_count": 4,
   "metadata": {},
   "outputs": [
    {
     "name": "stdout",
     "output_type": "stream",
     "text": [
      "15.000\n"
     ]
    }
   ],
   "source": [
    "x = re.search('vunnet (.*) kroner', text)\n",
    "print(x.group(1))"
   ]
  },
  {
   "cell_type": "code",
   "execution_count": 5,
   "metadata": {},
   "outputs": [],
   "source": [
    "text = \"En DNB-kunde trodde hun hadde vunnet 15.000 kroner i en konkurranse på Facebook. \\\n",
    "Det endte med et sviende tap på over 17.000 kroner.\""
   ]
  },
  {
   "cell_type": "code",
   "execution_count": 6,
   "metadata": {},
   "outputs": [
    {
     "name": "stdout",
     "output_type": "stream",
     "text": [
      "15.000 kroner i en konkurranse på Facebook. Det endte med et sviende tap på over 17.000\n"
     ]
    }
   ],
   "source": [
    "x = re.search('vunnet (.*) kroner', text)\n",
    "print(x.group(1))"
   ]
  },
  {
   "cell_type": "markdown",
   "metadata": {},
   "source": [
    "Greedy and Lazy match\n",
    "\n",
    "<br>\n",
    "The quantifiers * + {} are greedy operators, so they expand the match as far as they can through the provided text.\n",
    "<br>\n",
    ".+?  Lazy match, which means to match a string as short as possible."
   ]
  },
  {
   "cell_type": "code",
   "execution_count": 7,
   "metadata": {},
   "outputs": [
    {
     "name": "stdout",
     "output_type": "stream",
     "text": [
      "15.000\n"
     ]
    }
   ],
   "source": [
    "x = re.search('vunnet (.+?) kroner', text)\n",
    "print(x.group(1))"
   ]
  }
 ],
 "metadata": {
  "kernelspec": {
   "display_name": "Python 2",
   "language": "python",
   "name": "python2"
  },
  "language_info": {
   "codemirror_mode": {
    "name": "ipython",
    "version": 2
   },
   "file_extension": ".py",
   "mimetype": "text/x-python",
   "name": "python",
   "nbconvert_exporter": "python",
   "pygments_lexer": "ipython2",
   "version": "2.7.13"
  }
 },
 "nbformat": 4,
 "nbformat_minor": 2
}
